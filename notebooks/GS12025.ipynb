{
  "cells": [
    {
      "cell_type": "code",
      "execution_count": null,
      "metadata": {
        "id": "hfTj_YXygXiI"
      },
      "outputs": [
        {
          "ename": "",
          "evalue": "",
          "output_type": "error",
          "traceback": [
            "\u001b[1;31mFailed to start the Kernel. \n",
            "\u001b[1;31mUnable to start Kernel '.venv (Python 3.13.3)' due to a timeout waiting for the ports to get used. \n",
            "\u001b[1;31mView Jupyter <a href='command:jupyter.viewOutput'>log</a> for further details."
          ]
        }
      ],
      "source": [
        "import pandas as pd"
      ]
    },
    {
      "cell_type": "code",
      "execution_count": null,
      "metadata": {
        "id": "hggfzwqvgvfw"
      },
      "outputs": [],
      "source": [
        "df = pd.read_csv(\"../base-dados/eventos-climaticos.csv\")"
      ]
    },
    {
      "cell_type": "code",
      "execution_count": null,
      "metadata": {
        "colab": {
          "base_uri": "https://localhost:8080/"
        },
        "id": "82QcqVv_g50A",
        "outputId": "45e2681c-c3cd-4712-9d33-79b666e03b45"
      },
      "outputs": [],
      "source": [
        "# Selecionar colunas essenciais\n",
        "df_simplificado = df[[\n",
        "    'Disaster Type', 'Start Year', 'Total Deaths', 'No. Injured',\n",
        "    'Total Affected', 'Total Damage (\\'000 US$)', 'Magnitude', 'Country'\n",
        "]].copy()\n",
        "\n",
        "# Criar coluna 'Nivel de Risco' com base em regras simples\n",
        "def classificar_risco(row):\n",
        "    impacto = 0\n",
        "    if pd.notnull(row['Total Deaths']):\n",
        "        impacto += row['Total Deaths'] * 5\n",
        "    if pd.notnull(row['No. Injured']):\n",
        "        impacto += row['No. Injured'] * 2\n",
        "    if pd.notnull(row['Total Affected']):\n",
        "        impacto += row['Total Affected'] * 1\n",
        "    if pd.notnull(row['Total Damage (\\'000 US$)']):\n",
        "        impacto += row['Total Damage (\\'000 US$)'] * 0.1\n",
        "\n",
        "    if impacto == 0:\n",
        "        return 'Muito Baixo'\n",
        "    elif impacto <= 100:\n",
        "        return 'Baixo'\n",
        "    elif impacto <= 1000:\n",
        "        return 'Médio'\n",
        "    elif impacto <= 10000:\n",
        "        return 'Alto'\n",
        "    else:\n",
        "        return 'Muito Alto'\n",
        "\n",
        "df_simplificado['Nivel de Risco'] = df_simplificado.apply(classificar_risco, axis=1)\n",
        "\n",
        "# Verificar as primeiras linhas da nova tabela\n",
        "df_simplificado.head()\n"
      ]
    },
    {
      "cell_type": "code",
      "execution_count": null,
      "metadata": {
        "id": "ijderAqGh7vE"
      },
      "outputs": [],
      "source": [
        "df_simplificado.to_csv(\"../base-dados/eventos-climaticos-limpos.csv\")"
      ]
    },
    {
      "cell_type": "code",
      "execution_count": null,
      "metadata": {},
      "outputs": [],
      "source": [
        "df_model = pd.read_csv(\"../base-dados/eventos-climaticos-limpos.csv\")\n",
        "\n",
        "numerical_cols = [\n",
        "    'Start Year', 'Total Deaths', 'No. Injured',\n",
        "    'Total Affected', 'Total Damage (\\'000 US$)', 'Magnitude'\n",
        "]\n",
        "\n",
        "df_model[numerical_cols] = df_model[numerical_cols].fillna(0)\n",
        "\n",
        "df_model.head()"
      ]
    },
    {
      "cell_type": "code",
      "execution_count": null,
      "metadata": {},
      "outputs": [],
      "source": [
        "df_model = df_model.drop(\"Unnamed: 0\", axis=1)"
      ]
    },
    {
      "cell_type": "code",
      "execution_count": null,
      "metadata": {},
      "outputs": [],
      "source": [
        "df_model"
      ]
    },
    {
      "cell_type": "code",
      "execution_count": null,
      "metadata": {},
      "outputs": [],
      "source": [
        "df_model.info()"
      ]
    },
    {
      "cell_type": "code",
      "execution_count": null,
      "metadata": {},
      "outputs": [],
      "source": [
        "y = df_model[\"Nivel de Risco\"]\n",
        "X = df_model.drop(\"Nivel de Risco\", axis=1)\n",
        "X = pd.get_dummies(X, columns=['Disaster Type', 'Country'])\n",
        "\n",
        "from sklearn.model_selection import train_test_split\n",
        "from sklearn.tree import DecisionTreeClassifier\n",
        "from sklearn.metrics import accuracy_score"
      ]
    },
    {
      "cell_type": "code",
      "execution_count": null,
      "metadata": {},
      "outputs": [],
      "source": [
        "X_train, X_test, y_train, y_test = train_test_split(X, y)"
      ]
    },
    {
      "cell_type": "code",
      "execution_count": null,
      "metadata": {},
      "outputs": [],
      "source": [
        "clf = DecisionTreeClassifier()\n",
        "clf.fit(X_train, y_train)"
      ]
    },
    {
      "cell_type": "code",
      "execution_count": null,
      "metadata": {},
      "outputs": [],
      "source": [
        "y_pred = clf.predict(X_test)\n",
        "accuracy = accuracy_score(y_test, y_pred)"
      ]
    },
    {
      "cell_type": "code",
      "execution_count": null,
      "metadata": {},
      "outputs": [],
      "source": [
        "accuracy"
      ]
    },
    {
      "cell_type": "code",
      "execution_count": null,
      "metadata": {},
      "outputs": [],
      "source": [
        "pd.to_pickle(clf, \"../app/modelo.pkl\")"
      ]
    }
  ],
  "metadata": {
    "colab": {
      "provenance": []
    },
    "kernelspec": {
      "display_name": ".venv",
      "language": "python",
      "name": "python3"
    },
    "language_info": {
      "codemirror_mode": {
        "name": "ipython",
        "version": 3
      },
      "file_extension": ".py",
      "mimetype": "text/x-python",
      "name": "python",
      "nbconvert_exporter": "python",
      "pygments_lexer": "ipython3",
      "version": "3.13.3"
    }
  },
  "nbformat": 4,
  "nbformat_minor": 0
}
