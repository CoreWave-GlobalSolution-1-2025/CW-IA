{
  "cells": [
    {
      "cell_type": "code",
      "execution_count": 1,
      "metadata": {
        "id": "hfTj_YXygXiI"
      },
      "outputs": [],
      "source": [
        "import pandas as pd"
      ]
    },
    {
      "cell_type": "code",
      "execution_count": 4,
      "metadata": {
        "id": "hggfzwqvgvfw"
      },
      "outputs": [],
      "source": [
        "df = pd.read_csv(\"../base-dados/eventos-climaticos.csv\")"
      ]
    },
    {
      "cell_type": "code",
      "execution_count": 5,
      "metadata": {
        "colab": {
          "base_uri": "https://localhost:8080/"
        },
        "id": "82QcqVv_g50A",
        "outputId": "45e2681c-c3cd-4712-9d33-79b666e03b45"
      },
      "outputs": [
        {
          "data": {
            "text/plain": [
              "array(['Drought', 'Road', 'Flood', 'Extreme temperature',\n",
              "       'Fire (Miscellaneous)', 'Volcanic activity', 'Storm', 'Wildfire',\n",
              "       'Earthquake', 'Rail', 'Air', 'Collapse (Industrial)',\n",
              "       'Collapse (Miscellaneous)', 'Fire (Industrial)',\n",
              "       'Explosion (Miscellaneous)', 'Epidemic', 'Water',\n",
              "       'Mass movement (wet)', 'Explosion (Industrial)', 'Chemical spill',\n",
              "       'Gas leak', 'Infestation', 'Miscellaneous accident (General)',\n",
              "       'Poisoning', 'Mass movement (dry)',\n",
              "       'Industrial accident (General)', 'Radiation', 'Oil spill',\n",
              "       'Impact', 'Animal incident', 'Glacial lake outburst flood'],\n",
              "      dtype=object)"
            ]
          },
          "execution_count": 5,
          "metadata": {},
          "output_type": "execute_result"
        }
      ],
      "source": [
        "df[\"Disaster Type\"].unique()"
      ]
    },
    {
      "cell_type": "code",
      "execution_count": null,
      "metadata": {
        "id": "ijderAqGh7vE"
      },
      "outputs": [],
      "source": []
    }
  ],
  "metadata": {
    "colab": {
      "provenance": []
    },
    "kernelspec": {
      "display_name": ".venv",
      "language": "python",
      "name": "python3"
    },
    "language_info": {
      "codemirror_mode": {
        "name": "ipython",
        "version": 3
      },
      "file_extension": ".py",
      "mimetype": "text/x-python",
      "name": "python",
      "nbconvert_exporter": "python",
      "pygments_lexer": "ipython3",
      "version": "3.13.3"
    }
  },
  "nbformat": 4,
  "nbformat_minor": 0
}
